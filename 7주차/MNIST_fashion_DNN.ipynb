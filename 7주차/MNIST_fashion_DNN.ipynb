{
  "nbformat": 4,
  "nbformat_minor": 0,
  "metadata": {
    "colab": {
      "provenance": []
    },
    "kernelspec": {
      "name": "python3",
      "display_name": "Python 3"
    },
    "language_info": {
      "name": "python"
    }
  },
  "cells": [
    {
      "cell_type": "code",
      "source": [
        "import tensorflow as tf\n",
        "from tensorflow.keras import layers, models\n",
        "\n",
        "# 데이터 로드\n",
        "fashion_mnist = tf.keras.datasets.fashion_mnist\n",
        "(x_train, y_train), (x_test, y_test) = fashion_mnist.load_data()"
      ],
      "metadata": {
        "id": "p-iSqiD9YPpn"
      },
      "execution_count": 33,
      "outputs": []
    },
    {
      "cell_type": "code",
      "source": [
        "# 정규화 (0~1)\n",
        "x_train = x_train / 255.0\n",
        "x_test = x_test / 255.0"
      ],
      "metadata": {
        "id": "v8cwoatCYSa7"
      },
      "execution_count": 34,
      "outputs": []
    },
    {
      "cell_type": "code",
      "source": [
        "# DNN 모델 구성\n",
        "model_dnn = models.Sequential([\n",
        "    layers.Flatten(input_shape=(28, 28)),\n",
        "    layers.Dense(256, activation='relu'),\n",
        "    layers.Dropout(0.3),\n",
        "    layers.Dense(128, activation='relu'),\n",
        "    layers.Dropout(0.3),\n",
        "    layers.Dense(10, activation='softmax')\n",
        "])"
      ],
      "metadata": {
        "id": "rtb8kPD0YTgd"
      },
      "execution_count": 35,
      "outputs": []
    },
    {
      "cell_type": "code",
      "source": [
        "# 컴파일\n",
        "model_dnn.compile(optimizer='adam',\n",
        "                  loss='sparse_categorical_crossentropy',\n",
        "                  metrics=['accuracy'])\n"
      ],
      "metadata": {
        "id": "0PPz830cYUSE"
      },
      "execution_count": 36,
      "outputs": []
    },
    {
      "cell_type": "code",
      "source": [
        "# 학습\n",
        "history_dnn = model_dnn.fit(x_train, y_train, epochs=10,\n",
        "                            validation_split=0.1, batch_size=128, verbose=2)"
      ],
      "metadata": {
        "colab": {
          "base_uri": "https://localhost:8080/"
        },
        "id": "ys0NYZ18YVEL",
        "outputId": "0492f9c1-60ec-44e8-d5a6-bf1755045ae6"
      },
      "execution_count": 37,
      "outputs": [
        {
          "output_type": "stream",
          "name": "stdout",
          "text": [
            "Epoch 1/10\n",
            "422/422 - 4s - 10ms/step - accuracy: 0.7776 - loss: 0.6237 - val_accuracy: 0.8500 - val_loss: 0.4185\n",
            "Epoch 2/10\n",
            "422/422 - 4s - 10ms/step - accuracy: 0.8421 - loss: 0.4377 - val_accuracy: 0.8633 - val_loss: 0.3781\n",
            "Epoch 3/10\n",
            "422/422 - 3s - 7ms/step - accuracy: 0.8556 - loss: 0.3964 - val_accuracy: 0.8695 - val_loss: 0.3618\n",
            "Epoch 4/10\n",
            "422/422 - 3s - 7ms/step - accuracy: 0.8635 - loss: 0.3733 - val_accuracy: 0.8758 - val_loss: 0.3413\n",
            "Epoch 5/10\n",
            "422/422 - 3s - 7ms/step - accuracy: 0.8706 - loss: 0.3521 - val_accuracy: 0.8780 - val_loss: 0.3364\n",
            "Epoch 6/10\n",
            "422/422 - 4s - 10ms/step - accuracy: 0.8744 - loss: 0.3440 - val_accuracy: 0.8752 - val_loss: 0.3397\n",
            "Epoch 7/10\n",
            "422/422 - 4s - 9ms/step - accuracy: 0.8781 - loss: 0.3309 - val_accuracy: 0.8807 - val_loss: 0.3315\n",
            "Epoch 8/10\n",
            "422/422 - 3s - 7ms/step - accuracy: 0.8816 - loss: 0.3198 - val_accuracy: 0.8863 - val_loss: 0.3175\n",
            "Epoch 9/10\n",
            "422/422 - 4s - 9ms/step - accuracy: 0.8840 - loss: 0.3149 - val_accuracy: 0.8858 - val_loss: 0.3143\n",
            "Epoch 10/10\n",
            "422/422 - 4s - 10ms/step - accuracy: 0.8874 - loss: 0.3059 - val_accuracy: 0.8825 - val_loss: 0.3195\n"
          ]
        }
      ]
    },
    {
      "cell_type": "code",
      "source": [
        "# 평가\n",
        "test_loss, test_acc = model_dnn.evaluate(x_test, y_test, verbose=2)\n",
        "print(f\"DNN Test Accuracy: {test_acc:.4f}\")"
      ],
      "metadata": {
        "colab": {
          "base_uri": "https://localhost:8080/"
        },
        "id": "grKogKHJYWi2",
        "outputId": "bb4ac6d7-877e-4cce-82eb-bec53c4c4038"
      },
      "execution_count": 38,
      "outputs": [
        {
          "output_type": "stream",
          "name": "stdout",
          "text": [
            "313/313 - 1s - 2ms/step - accuracy: 0.8782 - loss: 0.3409\n",
            "DNN Test Accuracy: 0.8782\n"
          ]
        }
      ]
    },
    {
      "cell_type": "code",
      "source": [],
      "metadata": {
        "id": "dk6PJCRDm04W"
      },
      "execution_count": null,
      "outputs": []
    }
  ]
}