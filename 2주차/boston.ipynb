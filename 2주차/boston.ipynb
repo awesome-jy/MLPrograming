{
  "nbformat": 4,
  "nbformat_minor": 0,
  "metadata": {
    "colab": {
      "provenance": []
    },
    "kernelspec": {
      "name": "python3",
      "display_name": "Python 3"
    },
    "language_info": {
      "name": "python"
    }
  },
  "cells": [
    {
      "cell_type": "code",
      "execution_count": 7,
      "metadata": {
        "id": "HQCsRyIeXrSE",
        "colab": {
          "base_uri": "https://localhost:8080/"
        },
        "outputId": "6110c62c-58fe-4553-a291-cc72d32085ee"
      },
      "outputs": [
        {
          "output_type": "stream",
          "name": "stdout",
          "text": [
            "=== Test MSE ===\n",
            "Decision Tree : 0.4818\n",
            "Random Forest : 0.2400\n",
            "Linear Regression : 0.5547\n"
          ]
        }
      ],
      "source": [
        "import pandas as pd\n",
        "from sklearn.model_selection import train_test_split\n",
        "from sklearn.tree import DecisionTreeRegressor\n",
        "from sklearn.ensemble import RandomForestRegressor\n",
        "from sklearn.linear_model import LinearRegression\n",
        "\n",
        "# 회귀 모델 평가 지표를 import합니다.\n",
        "from sklearn.metrics import mean_squared_error, r2_score\n",
        "\n",
        "# -----------------------------\n",
        "# 1) 데이터 준비\n",
        "# -----------------------------\n",
        "df = pd.read_csv(\"/content/drive/MyDrive/기계학습프로그래밍/실습 파일/boston.csv\")\n",
        "\n",
        "\n",
        "X = df.drop(columns=[\"PRICE\"])\n",
        "y = df[\"PRICE\"]\n",
        "\n",
        "X_train, X_test, y_train, y_test = train_test_split(\n",
        "    X, y, test_size=0.2, random_state=42\n",
        ")\n",
        "\n",
        "# -----------------------------\n",
        "# 2) 모델 구성\n",
        "# -----------------------------\n",
        "dt = DecisionTreeRegressor(random_state=42)\n",
        "rf = RandomForestRegressor(n_estimators=200, random_state=42)\n",
        "lr = LinearRegression()\n",
        "\n",
        "# -----------------------------\n",
        "# 3) 모델 학습\n",
        "# -----------------------------\n",
        "dt.fit(X_train, y_train)\n",
        "rf.fit(X_train, y_train)\n",
        "lr.fit(X_train, y_train)\n",
        "\n",
        "# -----------------------------\n",
        "# 4) 모델 평가\n",
        "# -----------------------------\n",
        "dt_y_predict = dt.predict(X_test)\n",
        "rf_y_pred = rf.predict(X_test)\n",
        "lr_y_pred = lr.predict(X_test)\n",
        "\n",
        "# accuracy_score 대신 mean_squared_error를 사용합니다.\n",
        "dt_mse = mean_squared_error(y_test, dt_y_predict)\n",
        "rf_mse = mean_squared_error(y_test, rf_y_pred)\n",
        "lr_mse = mean_squared_error(y_test, lr_y_pred)\n",
        "\n",
        "print(\"=== Test MSE ===\")\n",
        "print(f\"Decision Tree : {dt_mse:.4f}\")\n",
        "print(f\"Random Forest : {rf_mse:.4f}\")\n",
        "print(f\"Linear Regression : {lr_mse:.4f}\")"
      ]
    },
    {
      "cell_type": "code",
      "source": [],
      "metadata": {
        "id": "u90gxzVMYFkE"
      },
      "execution_count": null,
      "outputs": []
    }
  ]
}